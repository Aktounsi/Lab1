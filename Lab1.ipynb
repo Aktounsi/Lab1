{
 "cells": [
  {
   "cell_type": "markdown",
   "id": "ef09030c",
   "metadata": {},
   "source": [
    "# Exercice1"
   ]
  },
  {
   "cell_type": "markdown",
   "id": "adf3f001",
   "metadata": {},
   "source": [
    "**1) Syntaxe valide** <br>\n",
    "explication: if est suivi par une condition valide (x>4). <br>\n",
    "exemple:"
   ]
  },
  {
   "cell_type": "code",
   "execution_count": 80,
   "id": "a57a8907",
   "metadata": {},
   "outputs": [
    {
     "name": "stdout",
     "output_type": "stream",
     "text": [
      "3 is lower than 4\n"
     ]
    }
   ],
   "source": [
    "x=3\n",
    "if(x>4):\n",
    "    print('%d is greater than 4' % (x))\n",
    "else:\n",
    "    print('{} is lower than 4' .format(x))"
   ]
  },
  {
   "cell_type": "markdown",
   "id": "2a48c645",
   "metadata": {},
   "source": [
    "**2) Syntaxe valide** <br>\n",
    "explication: if est suivi par une condition valide x==2 (Les parenthèse ne sont pas obligatoires). <br>\n",
    "exemple:"
   ]
  },
  {
   "cell_type": "code",
   "execution_count": 14,
   "id": "ba22cac0",
   "metadata": {},
   "outputs": [
    {
     "name": "stdout",
     "output_type": "stream",
     "text": [
      "3 n'est pas égale à 2\n"
     ]
    }
   ],
   "source": [
    "if x==2:\n",
    "    print('%d est égale à 2' % (x))\n",
    "else:\n",
    "    print('{} n\\'est pas égale à 2' .format(x))"
   ]
  },
  {
   "cell_type": "markdown",
   "id": "9508d49b",
   "metadata": {},
   "source": [
    "**3) Syntaxe invalide** <br>\n",
    "explication: if est suivi par une condition invalide y=4 (inférieur ou égale ça s'ecrit <=). <br>\n",
    "exemple:"
   ]
  },
  {
   "cell_type": "code",
   "execution_count": 17,
   "id": "6a7bae4a",
   "metadata": {},
   "outputs": [
    {
     "ename": "SyntaxError",
     "evalue": "invalid syntax (155877941.py, line 2)",
     "output_type": "error",
     "traceback": [
      "\u001b[1;36m  Cell \u001b[1;32mIn [17], line 2\u001b[1;36m\u001b[0m\n\u001b[1;33m    if( y=<4):\u001b[0m\n\u001b[1;37m         ^\u001b[0m\n\u001b[1;31mSyntaxError\u001b[0m\u001b[1;31m:\u001b[0m invalid syntax\n"
     ]
    }
   ],
   "source": [
    "y=4\n",
    "if( y=<4):\n",
    "    print('{0} est inférieur ou égale à 4' .format(y))\n",
    "else:\n",
    "    print(y, ' est supérieur à 4')"
   ]
  },
  {
   "cell_type": "markdown",
   "id": "8f91586c",
   "metadata": {},
   "source": [
    "**4) Syntaxe invalide** <br>\n",
    "explication: if est suivi par une condition invalide y=5 (= c'est une affectation, l'égalité c'est plutot ==). <br>\n",
    "exemple:"
   ]
  },
  {
   "cell_type": "code",
   "execution_count": 40,
   "id": "ed991291",
   "metadata": {},
   "outputs": [
    {
     "ename": "SyntaxError",
     "evalue": "invalid syntax. Maybe you meant '==' or ':=' instead of '='? (4223499362.py, line 1)",
     "output_type": "error",
     "traceback": [
      "\u001b[1;36m  Cell \u001b[1;32mIn [40], line 1\u001b[1;36m\u001b[0m\n\u001b[1;33m    if(y=5):\u001b[0m\n\u001b[1;37m       ^\u001b[0m\n\u001b[1;31mSyntaxError\u001b[0m\u001b[1;31m:\u001b[0m invalid syntax. Maybe you meant '==' or ':=' instead of '='?\n"
     ]
    }
   ],
   "source": [
    "    if(y=5):\n",
    "        print('{0} est égale à 5' .format(y))\n",
    "    else:\n",
    "        print(y, ' n\\'est pas égale à 5')"
   ]
  },
  {
   "cell_type": "markdown",
   "id": "d1beef33",
   "metadata": {},
   "source": [
    "**5) Syntaxe valide** <br>\n",
    "explication: if est suivi par une condition valide a<=3 (3 est inférieure ou égale à la vaiable a). <br>\n",
    "exemple:"
   ]
  },
  {
   "cell_type": "code",
   "execution_count": 41,
   "id": "3eb61d32",
   "metadata": {},
   "outputs": [
    {
     "name": "stdout",
     "output_type": "stream",
     "text": [
      "3 est inférieure ou égale à 5\n"
     ]
    }
   ],
   "source": [
    "a=5\n",
    "if(3<=a):\n",
    "    print('3 est inférieure ou égale à', a)\n",
    "else:\n",
    "    print('3 est supérieure à ', a)"
   ]
  },
  {
   "cell_type": "markdown",
   "id": "133f9140",
   "metadata": {},
   "source": [
    "**6) Syntaxe valide** <br>\n",
    "explication: En effet if pourra être suivie par un nombre s'il est égale à zéro il sera remplacé par False sinon s'il est supérieur il sera évalué comme True (même si le moins n'est pas un opérateur logique, le résultat de la soustraction sera évalué). <br>\n",
    "exemple:"
   ]
  },
  {
   "cell_type": "code",
   "execution_count": 47,
   "id": "046e0fe0",
   "metadata": {},
   "outputs": [
    {
     "name": "stdout",
     "output_type": "stream",
     "text": [
      "False\n",
      "##############\n",
      "True\n",
      "##############\n",
      "True\n"
     ]
    }
   ],
   "source": [
    "if(1-1):\n",
    "    print('True')\n",
    "else:\n",
    "    print('False')\n",
    "print('##############')\n",
    "if(1-0):\n",
    "    print('True')\n",
    "else:\n",
    "    print('False')\n",
    "print('##############')\n",
    "if(3-0):\n",
    "    print('True')\n",
    "else:\n",
    "    print('False')"
   ]
  },
  {
   "cell_type": "markdown",
   "id": "ce26d8e9",
   "metadata": {},
   "source": [
    "**7) Syntaxe valide** <br>\n",
    "explication: if est suivi par une condition valide ((1-1)<=0) (le résultat de la soustraction sera comparé à 0). <br>\n",
    "exemple:"
   ]
  },
  {
   "cell_type": "code",
   "execution_count": 48,
   "id": "c8016d78",
   "metadata": {},
   "outputs": [
    {
     "name": "stdout",
     "output_type": "stream",
     "text": [
      "True\n"
     ]
    }
   ],
   "source": [
    "if((1-1)<=0):\n",
    "    print('True')\n",
    "else:\n",
    "    print('False')"
   ]
  },
  {
   "cell_type": "markdown",
   "id": "a95dfcb5",
   "metadata": {},
   "source": [
    "**8) Syntaxe valide** <br>\n",
    "explication: if est suivi par une condition valide (name==\"james\") (la variable name sera comparée à la chaine de caractères \"james\"). <br>\n",
    "exemple:"
   ]
  },
  {
   "cell_type": "code",
   "execution_count": 49,
   "id": "34399185",
   "metadata": {},
   "outputs": [
    {
     "name": "stdout",
     "output_type": "stream",
     "text": [
      "True\n"
     ]
    }
   ],
   "source": [
    "name=\"james\"\n",
    "if(name==\"james\"):\n",
    "    print('True')\n",
    "else:\n",
    "    print('False')"
   ]
  },
  {
   "cell_type": "markdown",
   "id": "008c65c4",
   "metadata": {},
   "source": [
    "# Exercice2"
   ]
  },
  {
   "cell_type": "code",
   "execution_count": 50,
   "id": "b2760543",
   "metadata": {},
   "outputs": [
    {
     "name": "stdout",
     "output_type": "stream",
     "text": [
      "is greater\n",
      "than 3.\n"
     ]
    }
   ],
   "source": [
    "X=2\n",
    "if(x>3):\n",
    "    print('this number')\n",
    "print('is greater')\n",
    "print('than 3.')"
   ]
  },
  {
   "cell_type": "markdown",
   "id": "cf7dba42",
   "metadata": {},
   "source": [
    "**Explication:** Dans la première ligne 2 est affecté à la vaiable x\n",
    "Par conséquent n'est pas supérieure à 3, et donc la condition sera évaluée comme False, et donc le bloc dans le if statement sera ignoré."
   ]
  },
  {
   "cell_type": "markdown",
   "id": "e0d7df5f",
   "metadata": {},
   "source": [
    "# Exercice3"
   ]
  },
  {
   "cell_type": "markdown",
   "id": "cf7a1f9f",
   "metadata": {},
   "source": [
    "**1) Réponse : (total > 2)** "
   ]
  },
  {
   "cell_type": "code",
   "execution_count": 53,
   "id": "d607db70",
   "metadata": {},
   "outputs": [
    {
     "name": "stdout",
     "output_type": "stream",
     "text": [
      "equivalent\n"
     ]
    }
   ],
   "source": [
    "total = 5\n",
    "if ( (not total <= 2) == (total > 2) ):\n",
    "    print('equivalent')\n",
    "else:\n",
    "    print('not equivalent')"
   ]
  },
  {
   "cell_type": "markdown",
   "id": "418da07b",
   "metadata": {},
   "source": [
    "**2) Réponse : (count <= 40)** "
   ]
  },
  {
   "cell_type": "code",
   "execution_count": 55,
   "id": "36ac66d0",
   "metadata": {},
   "outputs": [
    {
     "name": "stdout",
     "output_type": "stream",
     "text": [
      "equivalent\n"
     ]
    }
   ],
   "source": [
    "count = 50\n",
    "if((not count > 40) == (count <= 40)):\n",
    "    print('equivalent')\n",
    "else:\n",
    "    print('not equivalent')"
   ]
  },
  {
   "cell_type": "markdown",
   "id": "14776681",
   "metadata": {},
   "source": [
    "**3) Réponse : (value <= 20 or total === 100)** "
   ]
  },
  {
   "cell_type": "code",
   "execution_count": 61,
   "id": "997925e7",
   "metadata": {},
   "outputs": [
    {
     "name": "stdout",
     "output_type": "stream",
     "text": [
      "True\n"
     ]
    }
   ],
   "source": [
    "value=10\n",
    "print( (not(value > 20 and total != 100)) == (value <= 20 or total == 100) )"
   ]
  },
  {
   "cell_type": "markdown",
   "id": "7479a6a6",
   "metadata": {},
   "source": [
    "**4) Réponse : (angle <= 180 or width != 5)** "
   ]
  },
  {
   "cell_type": "code",
   "execution_count": 63,
   "id": "4fc5a498",
   "metadata": {},
   "outputs": [
    {
     "name": "stdout",
     "output_type": "stream",
     "text": [
      "True\n"
     ]
    }
   ],
   "source": [
    "angle=60\n",
    "width=5\n",
    "print( not (angle > 180 and width == 5) == (angle <= 180 or width != 5) )"
   ]
  },
  {
   "cell_type": "markdown",
   "id": "b98144ec",
   "metadata": {},
   "source": [
    "**5) Réponse : (count != 5 or (value != 10) and count <= 50)** "
   ]
  },
  {
   "cell_type": "code",
   "execution_count": 64,
   "id": "0119a421",
   "metadata": {},
   "outputs": [
    {
     "name": "stdout",
     "output_type": "stream",
     "text": [
      "True\n"
     ]
    }
   ],
   "source": [
    "print((not (count == 5 and not (value != 10) or count > 50)) == (count != 5 or (value != 10) and count <= 50))"
   ]
  },
  {
   "cell_type": "markdown",
   "id": "45ef7bbe",
   "metadata": {},
   "source": [
    "**6) Réponse : (value <= 200 and value >= 0 or total == 0)** "
   ]
  },
  {
   "cell_type": "code",
   "execution_count": 65,
   "id": "8861a5c1",
   "metadata": {},
   "outputs": [
    {
     "name": "stdout",
     "output_type": "stream",
     "text": [
      "True\n"
     ]
    }
   ],
   "source": [
    "print((not (value > 200 or value < 0 and not total == 0)) == (value <= 200 and value >= 0 or total == 0))"
   ]
  },
  {
   "cell_type": "markdown",
   "id": "01c0960d",
   "metadata": {},
   "source": [
    "# Exercice4"
   ]
  },
  {
   "cell_type": "code",
   "execution_count": 70,
   "id": "7cf00cc3",
   "metadata": {},
   "outputs": [
    {
     "name": "stdout",
     "output_type": "stream",
     "text": [
      "Enter the value in kilometers:10\n",
      "The entered value in Miles: 6.21371\n"
     ]
    }
   ],
   "source": [
    "def kilos_to_miles(x):\n",
    "    return x*0.621371\n",
    "distance = int(input('Enter the value in kilometers:'))\n",
    "print('The entered value in Miles:', kilos_to_miles(distance) )\n"
   ]
  },
  {
   "cell_type": "markdown",
   "id": "723746e1",
   "metadata": {},
   "source": [
    "# Exercice5"
   ]
  },
  {
   "cell_type": "code",
   "execution_count": 71,
   "id": "64ec2030",
   "metadata": {},
   "outputs": [
    {
     "name": "stdout",
     "output_type": "stream",
     "text": [
      "Enter 1st number:10\n",
      "Enter 2nd number:15\n",
      "Enter 3rd number:8\n",
      "The smallest number among 10, 15 and 8 is:8\n"
     ]
    }
   ],
   "source": [
    "var1= int(input('Enter 1st number:'))\n",
    "var2= int(input('Enter 2nd number:'))\n",
    "var3= int(input('Enter 3rd number:'))\n",
    "print('The smallest number among {}, {} and {} is:{}' .format(var1,var2,var3,min(var1,var2,var3)))"
   ]
  },
  {
   "cell_type": "markdown",
   "id": "a81f78b7",
   "metadata": {},
   "source": [
    "# Exercice6"
   ]
  },
  {
   "cell_type": "code",
   "execution_count": 74,
   "id": "4819b7f8",
   "metadata": {},
   "outputs": [
    {
     "name": "stdout",
     "output_type": "stream",
     "text": [
      "Enter a Number:4\n",
      "Factorial of  4 : 24\n"
     ]
    }
   ],
   "source": [
    "def fact(n):\n",
    "    if n==0:\n",
    "        return 1\n",
    "    else:\n",
    "        return n*fact(n-1)\n",
    "nb=int(input('Enter a Number:'))\n",
    "print('Factorial of ',nb, ':', fact(nb))"
   ]
  },
  {
   "cell_type": "markdown",
   "id": "631499a1",
   "metadata": {},
   "source": [
    "# Exercice7"
   ]
  },
  {
   "cell_type": "code",
   "execution_count": 78,
   "id": "35842eb5",
   "metadata": {},
   "outputs": [
    {
     "name": "stdout",
     "output_type": "stream",
     "text": [
      "Entrer le premier nombre:1\n",
      "Entrer l'opérateur:*\n",
      "Entrer le deuxième nombre:5\n",
      "Le résultat de la multiplication est : 5\n"
     ]
    }
   ],
   "source": [
    "nb1=int(input('Entrer le premier nombre:'))\n",
    "op=input('Entrer l\\'opérateur:')\n",
    "nb2=int(input('Entrer le deuxième nombre:'))\n",
    "match op:\n",
    "    case '+':\n",
    "        print('Le résultat de l\\'addition est :', nb1+nb2)\n",
    "    case '-':\n",
    "        print('Le résultat de la soustraction est :', nb1-nb2)\n",
    "    case '*':\n",
    "        print('Le résultat de la multiplication est :', nb1*nb2)\n",
    "    case '/':\n",
    "        print('Le résultat de la division est :', nb1/nb2)\n",
    "    case '%':\n",
    "        print('Le résultat du modulo est :', nb1%nb2)\n",
    "    case '**':\n",
    "        print('Le résultat de la puissance est :', nb1**nb2)\n",
    "    case _:\n",
    "        print('L\\'opérateur n\\'est pas reconnu.')"
   ]
  },
  {
   "cell_type": "markdown",
   "id": "199e9fe8",
   "metadata": {},
   "source": [
    "# Exercice8"
   ]
  },
  {
   "cell_type": "code",
   "execution_count": 79,
   "id": "7a6e1b83",
   "metadata": {},
   "outputs": [
    {
     "name": "stdout",
     "output_type": "stream",
     "text": [
      "Enter a number: 7\n",
      "7 is a prime number\n",
      "Enter a number: 2\n",
      "2 is not a prime number\n",
      "Enter a number: 3\n",
      "3 is a prime number\n",
      "Enter a number: 4\n",
      "4 is not a prime number\n",
      "Enter a number: 5\n",
      "5 is a prime number\n",
      "Enter a number: 6\n",
      "6 is not a prime number\n",
      "Enter a number: 8\n",
      "8 is not a prime number\n",
      "Enter a number: 9\n",
      "9 is not a prime number\n",
      "Enter a number: 11\n",
      "11 is a prime number\n"
     ]
    },
    {
     "ename": "KeyboardInterrupt",
     "evalue": "Interrupted by user",
     "output_type": "error",
     "traceback": [
      "\u001b[1;31m---------------------------------------------------------------------------\u001b[0m",
      "\u001b[1;31mKeyboardInterrupt\u001b[0m                         Traceback (most recent call last)",
      "Cell \u001b[1;32mIn [79], line 14\u001b[0m\n\u001b[0;32m     11\u001b[0m     \u001b[38;5;28;01mreturn\u001b[39;00m \u001b[38;5;28;01mTrue\u001b[39;00m\n\u001b[0;32m     13\u001b[0m \u001b[38;5;28;01mwhile\u001b[39;00m \u001b[38;5;28;01mTrue\u001b[39;00m:\n\u001b[1;32m---> 14\u001b[0m     num \u001b[38;5;241m=\u001b[39m \u001b[38;5;28mint\u001b[39m(\u001b[38;5;28minput\u001b[39m(\u001b[38;5;124m\"\u001b[39m\u001b[38;5;124mEnter a number: \u001b[39m\u001b[38;5;124m\"\u001b[39m))\n\u001b[0;32m     15\u001b[0m     \u001b[38;5;28;01mif\u001b[39;00m prime(num):\n\u001b[0;32m     16\u001b[0m         \u001b[38;5;28mprint\u001b[39m(num, \u001b[38;5;124m\"\u001b[39m\u001b[38;5;124mis a prime number\u001b[39m\u001b[38;5;124m\"\u001b[39m)\n",
      "File \u001b[1;32m~\\AppData\\Local\\Programs\\Python\\Python310\\lib\\site-packages\\ipykernel\\kernelbase.py:1177\u001b[0m, in \u001b[0;36mKernel.raw_input\u001b[1;34m(self, prompt)\u001b[0m\n\u001b[0;32m   1173\u001b[0m \u001b[38;5;28;01mif\u001b[39;00m \u001b[38;5;129;01mnot\u001b[39;00m \u001b[38;5;28mself\u001b[39m\u001b[38;5;241m.\u001b[39m_allow_stdin:\n\u001b[0;32m   1174\u001b[0m     \u001b[38;5;28;01mraise\u001b[39;00m StdinNotImplementedError(\n\u001b[0;32m   1175\u001b[0m         \u001b[38;5;124m\"\u001b[39m\u001b[38;5;124mraw_input was called, but this frontend does not support input requests.\u001b[39m\u001b[38;5;124m\"\u001b[39m\n\u001b[0;32m   1176\u001b[0m     )\n\u001b[1;32m-> 1177\u001b[0m \u001b[38;5;28;01mreturn\u001b[39;00m \u001b[38;5;28;43mself\u001b[39;49m\u001b[38;5;241;43m.\u001b[39;49m\u001b[43m_input_request\u001b[49m\u001b[43m(\u001b[49m\n\u001b[0;32m   1178\u001b[0m \u001b[43m    \u001b[49m\u001b[38;5;28;43mstr\u001b[39;49m\u001b[43m(\u001b[49m\u001b[43mprompt\u001b[49m\u001b[43m)\u001b[49m\u001b[43m,\u001b[49m\n\u001b[0;32m   1179\u001b[0m \u001b[43m    \u001b[49m\u001b[38;5;28;43mself\u001b[39;49m\u001b[38;5;241;43m.\u001b[39;49m\u001b[43m_parent_ident\u001b[49m\u001b[43m[\u001b[49m\u001b[38;5;124;43m\"\u001b[39;49m\u001b[38;5;124;43mshell\u001b[39;49m\u001b[38;5;124;43m\"\u001b[39;49m\u001b[43m]\u001b[49m\u001b[43m,\u001b[49m\n\u001b[0;32m   1180\u001b[0m \u001b[43m    \u001b[49m\u001b[38;5;28;43mself\u001b[39;49m\u001b[38;5;241;43m.\u001b[39;49m\u001b[43mget_parent\u001b[49m\u001b[43m(\u001b[49m\u001b[38;5;124;43m\"\u001b[39;49m\u001b[38;5;124;43mshell\u001b[39;49m\u001b[38;5;124;43m\"\u001b[39;49m\u001b[43m)\u001b[49m\u001b[43m,\u001b[49m\n\u001b[0;32m   1181\u001b[0m \u001b[43m    \u001b[49m\u001b[43mpassword\u001b[49m\u001b[38;5;241;43m=\u001b[39;49m\u001b[38;5;28;43;01mFalse\u001b[39;49;00m\u001b[43m,\u001b[49m\n\u001b[0;32m   1182\u001b[0m \u001b[43m\u001b[49m\u001b[43m)\u001b[49m\n",
      "File \u001b[1;32m~\\AppData\\Local\\Programs\\Python\\Python310\\lib\\site-packages\\ipykernel\\kernelbase.py:1219\u001b[0m, in \u001b[0;36mKernel._input_request\u001b[1;34m(self, prompt, ident, parent, password)\u001b[0m\n\u001b[0;32m   1216\u001b[0m             \u001b[38;5;28;01mbreak\u001b[39;00m\n\u001b[0;32m   1217\u001b[0m \u001b[38;5;28;01mexcept\u001b[39;00m \u001b[38;5;167;01mKeyboardInterrupt\u001b[39;00m:\n\u001b[0;32m   1218\u001b[0m     \u001b[38;5;66;03m# re-raise KeyboardInterrupt, to truncate traceback\u001b[39;00m\n\u001b[1;32m-> 1219\u001b[0m     \u001b[38;5;28;01mraise\u001b[39;00m \u001b[38;5;167;01mKeyboardInterrupt\u001b[39;00m(\u001b[38;5;124m\"\u001b[39m\u001b[38;5;124mInterrupted by user\u001b[39m\u001b[38;5;124m\"\u001b[39m) \u001b[38;5;28;01mfrom\u001b[39;00m \u001b[38;5;28mNone\u001b[39m\n\u001b[0;32m   1220\u001b[0m \u001b[38;5;28;01mexcept\u001b[39;00m \u001b[38;5;167;01mException\u001b[39;00m:\n\u001b[0;32m   1221\u001b[0m     \u001b[38;5;28mself\u001b[39m\u001b[38;5;241m.\u001b[39mlog\u001b[38;5;241m.\u001b[39mwarning(\u001b[38;5;124m\"\u001b[39m\u001b[38;5;124mInvalid Message:\u001b[39m\u001b[38;5;124m\"\u001b[39m, exc_info\u001b[38;5;241m=\u001b[39m\u001b[38;5;28;01mTrue\u001b[39;00m)\n",
      "\u001b[1;31mKeyboardInterrupt\u001b[0m: Interrupted by user"
     ]
    }
   ],
   "source": [
    "def prime(x):\n",
    "    # un nombre premier est strictement supérieur à 1\n",
    "    if not x > 1:\n",
    "        return False\n",
    "    #un nombre premier n'est forcément pas paire\n",
    "    if x%2==0:\n",
    "        return False\n",
    "    for i in range(3, x, 2):\n",
    "        if (x % i) == 0:\n",
    "            return False\n",
    "    return True\n",
    "  \n",
    "while True:\n",
    "    num = int(input(\"Enter a number: \"))\n",
    "    if prime(num):\n",
    "        print(num, \"is a prime number\")\n",
    "    else:\n",
    "        print(num, \"is not a prime number\")"
   ]
  },
  {
   "cell_type": "markdown",
   "id": "5fbbe84d",
   "metadata": {},
   "source": [
    "# Exercice9"
   ]
  },
  {
   "cell_type": "code",
   "execution_count": 86,
   "id": "6ad2b94f",
   "metadata": {},
   "outputs": [
    {
     "name": "stdout",
     "output_type": "stream",
     "text": [
      "Enter the number:5\n",
      "Multiplication Table of  5\n",
      "5 X 1 = 5\n",
      "5 X 2 = 10\n",
      "5 X 3 = 15\n",
      "5 X 4 = 20\n",
      "5 X 5 = 25\n",
      "5 X 6 = 30\n",
      "5 X 7 = 35\n",
      "5 X 8 = 40\n",
      "5 X 9 = 45\n"
     ]
    }
   ],
   "source": [
    "nb=int(input('Enter the number:'))\n",
    "while (nb<1) or (nb>9):\n",
    "    nb=int(input('Enter the number:'))\n",
    "print('Multiplication Table of ', nb)\n",
    "for i in range(1,10):\n",
    "    print(nb, 'X', i, '=', nb*i)"
   ]
  },
  {
   "cell_type": "markdown",
   "id": "6889b68e",
   "metadata": {},
   "source": [
    "# Exercice10"
   ]
  },
  {
   "cell_type": "code",
   "execution_count": 90,
   "id": "38ebe00e",
   "metadata": {},
   "outputs": [
    {
     "name": "stdout",
     "output_type": "stream",
     "text": [
      "The total sum: 204  and the last number is  8\n"
     ]
    }
   ],
   "source": [
    "def sumSquares(seuil):\n",
    "    sum=0\n",
    "    i=0\n",
    "    while sum <= seuil:\n",
    "        i+=1\n",
    "        sum += i**2\n",
    "    return (sum,i)\n",
    "(sum,i)= sumSquares(200)\n",
    "print('The total sum:', sum, ' and the last number is ',i)"
   ]
  }
 ],
 "metadata": {
  "kernelspec": {
   "display_name": "Python 3 (ipykernel)",
   "language": "python",
   "name": "python3"
  },
  "language_info": {
   "codemirror_mode": {
    "name": "ipython",
    "version": 3
   },
   "file_extension": ".py",
   "mimetype": "text/x-python",
   "name": "python",
   "nbconvert_exporter": "python",
   "pygments_lexer": "ipython3",
   "version": "3.10.7"
  }
 },
 "nbformat": 4,
 "nbformat_minor": 5
}
