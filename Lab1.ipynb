{
 "cells": [
  {
   "cell_type": "markdown",
   "id": "c34c56d4",
   "metadata": {},
   "source": [
    "# Exercice1"
   ]
  },
  {
   "cell_type": "markdown",
   "id": "b1d09819",
   "metadata": {},
   "source": [
    "**1) Syntaxe valide** <br>\n",
    "explication: if est suivi par une condition valide (x>4). <br>\n",
    "exemple:"
   ]
  },
  {
   "cell_type": "code",
   "execution_count": 80,
   "id": "e71db49a",
   "metadata": {},
   "outputs": [
    {
     "name": "stdout",
     "output_type": "stream",
     "text": [
      "3 is lower than 4\n"
     ]
    }
   ],
   "source": [
    "x=3\n",
    "if(x>4):\n",
    "    print('%d is greater than 4' % (x))\n",
    "else:\n",
    "    print('{} is lower than 4' .format(x))"
   ]
  },
  {
   "cell_type": "markdown",
   "id": "e4cbbd50",
   "metadata": {},
   "source": [
    "**2) Syntaxe valide** <br>\n",
    "explication: if est suivi par une condition valide x==2 (Les parenthèse ne sont pas obligatoires). <br>\n",
    "exemple:"
   ]
  },
  {
   "cell_type": "code",
   "execution_count": 14,
   "id": "1b733e4e",
   "metadata": {},
   "outputs": [
    {
     "name": "stdout",
     "output_type": "stream",
     "text": [
      "3 n'est pas égale à 2\n"
     ]
    }
   ],
   "source": [
    "if x==2:\n",
    "    print('%d est égale à 2' % (x))\n",
    "else:\n",
    "    print('{} n\\'est pas égale à 2' .format(x))"
   ]
  },
  {
   "cell_type": "markdown",
   "id": "4059b810",
   "metadata": {},
   "source": [
    "**3) Syntaxe invalide** <br>\n",
    "explication: if est suivi par une condition invalide y=4 (inférieur ou égale ça s'ecrit <=). <br>\n",
    "exemple:"
   ]
  },
  {
   "cell_type": "code",
   "execution_count": 17,
   "id": "3f678c8e",
   "metadata": {},
   "outputs": [
    {
     "ename": "SyntaxError",
     "evalue": "invalid syntax (155877941.py, line 2)",
     "output_type": "error",
     "traceback": [
      "\u001b[1;36m  Cell \u001b[1;32mIn [17], line 2\u001b[1;36m\u001b[0m\n\u001b[1;33m    if( y=<4):\u001b[0m\n\u001b[1;37m         ^\u001b[0m\n\u001b[1;31mSyntaxError\u001b[0m\u001b[1;31m:\u001b[0m invalid syntax\n"
     ]
    }
   ],
   "source": [
    "y=4\n",
    "if( y=<4):\n",
    "    print('{0} est inférieur ou égale à 4' .format(y))\n",
    "else:\n",
    "    print(y, ' est supérieur à 4')"
   ]
  },
  {
   "cell_type": "markdown",
   "id": "3fa72304",
   "metadata": {},
   "source": [
    "**4) Syntaxe invalide** <br>\n",
    "explication: if est suivi par une condition invalide y=5 (= c'est une affectation, l'égalité c'est plutot ==). <br>\n",
    "exemple:"
   ]
  },
  {
   "cell_type": "code",
   "execution_count": 40,
   "id": "305f28c8",
   "metadata": {},
   "outputs": [
    {
     "ename": "SyntaxError",
     "evalue": "invalid syntax. Maybe you meant '==' or ':=' instead of '='? (4223499362.py, line 1)",
     "output_type": "error",
     "traceback": [
      "\u001b[1;36m  Cell \u001b[1;32mIn [40], line 1\u001b[1;36m\u001b[0m\n\u001b[1;33m    if(y=5):\u001b[0m\n\u001b[1;37m       ^\u001b[0m\n\u001b[1;31mSyntaxError\u001b[0m\u001b[1;31m:\u001b[0m invalid syntax. Maybe you meant '==' or ':=' instead of '='?\n"
     ]
    }
   ],
   "source": [
    "    if(y=5):\n",
    "        print('{0} est égale à 5' .format(y))\n",
    "    else:\n",
    "        print(y, ' n\\'est pas égale à 5')"
   ]
  },
  {
   "cell_type": "markdown",
   "id": "c7903a64",
   "metadata": {},
   "source": [
    "**5) Syntaxe valide** <br>\n",
    "explication: if est suivi par une condition valide a<=3 (3 est inférieure ou égale à la vaiable a). <br>\n",
    "exemple:"
   ]
  },
  {
   "cell_type": "code",
   "execution_count": 41,
   "id": "e5ed9786",
   "metadata": {},
   "outputs": [
    {
     "name": "stdout",
     "output_type": "stream",
     "text": [
      "3 est inférieure ou égale à 5\n"
     ]
    }
   ],
   "source": [
    "a=5\n",
    "if(3<=a):\n",
    "    print('3 est inférieure ou égale à', a)\n",
    "else:\n",
    "    print('3 est supérieure à ', a)"
   ]
  },
  {
   "cell_type": "markdown",
   "id": "ad579a14",
   "metadata": {},
   "source": [
    "**6) Syntaxe valide** <br>\n",
    "explication: En effet if pourra être suivie par un nombre s'il est égale à zéro il sera remplacé par False sinon s'il est supérieur il sera évalué comme True (même si le moins n'est pas un opérateur logique, le résultat de la soustraction sera évalué). <br>\n",
    "exemple:"
   ]
  },
  {
   "cell_type": "code",
   "execution_count": 47,
   "id": "23770f6b",
   "metadata": {},
   "outputs": [
    {
     "name": "stdout",
     "output_type": "stream",
     "text": [
      "False\n",
      "##############\n",
      "True\n",
      "##############\n",
      "True\n"
     ]
    }
   ],
   "source": [
    "if(1-1):\n",
    "    print('True')\n",
    "else:\n",
    "    print('False')\n",
    "print('##############')\n",
    "if(1-0):\n",
    "    print('True')\n",
    "else:\n",
    "    print('False')\n",
    "print('##############')\n",
    "if(3-0):\n",
    "    print('True')\n",
    "else:\n",
    "    print('False')"
   ]
  },
  {
   "cell_type": "markdown",
   "id": "9641a28c",
   "metadata": {},
   "source": [
    "**7) Syntaxe valide** <br>\n",
    "explication: if est suivi par une condition valide ((1-1)<=0) (le résultat de la soustraction sera comparé à 0). <br>\n",
    "exemple:"
   ]
  },
  {
   "cell_type": "code",
   "execution_count": 48,
   "id": "cb9b9012",
   "metadata": {},
   "outputs": [
    {
     "name": "stdout",
     "output_type": "stream",
     "text": [
      "True\n"
     ]
    }
   ],
   "source": [
    "if((1-1)<=0):\n",
    "    print('True')\n",
    "else:\n",
    "    print('False')"
   ]
  },
  {
   "cell_type": "markdown",
   "id": "25fbb5b1",
   "metadata": {},
   "source": [
    "**8) Syntaxe valide** <br>\n",
    "explication: if est suivi par une condition valide (name==\"james\") (la variable name sera comparée à la chaine de caractères \"james\"). <br>\n",
    "exemple:"
   ]
  },
  {
   "cell_type": "code",
   "execution_count": 49,
   "id": "e86441e4",
   "metadata": {},
   "outputs": [
    {
     "name": "stdout",
     "output_type": "stream",
     "text": [
      "True\n"
     ]
    }
   ],
   "source": [
    "name=\"james\"\n",
    "if(name==\"james\"):\n",
    "    print('True')\n",
    "else:\n",
    "    print('False')"
   ]
  },
  {
   "cell_type": "markdown",
   "id": "c333aab1",
   "metadata": {},
   "source": [
    "# Exercice2"
   ]
  },
  {
   "cell_type": "code",
   "execution_count": 50,
   "id": "58776ffc",
   "metadata": {},
   "outputs": [
    {
     "name": "stdout",
     "output_type": "stream",
     "text": [
      "is greater\n",
      "than 3.\n"
     ]
    }
   ],
   "source": [
    "X=2\n",
    "if(x>3):\n",
    "    print('this number')\n",
    "print('is greater')\n",
    "print('than 3.')"
   ]
  },
  {
   "cell_type": "markdown",
   "id": "c1545d00",
   "metadata": {},
   "source": [
    "**Explication:** Dans la première ligne 2 est affecté à la vaiable x\n",
    "Par conséquent n'est pas supérieure à 3, et donc la condition sera évaluée comme False, et donc le bloc dans le if statement sera ignoré."
   ]
  },
  {
   "cell_type": "markdown",
   "id": "63751e59",
   "metadata": {},
   "source": [
    "# Exercice3"
   ]
  },
  {
   "cell_type": "markdown",
   "id": "c592d341",
   "metadata": {},
   "source": [
    "**1) Réponse : (total > 2)** "
   ]
  },
  {
   "cell_type": "code",
   "execution_count": 53,
   "id": "b5f28bc7",
   "metadata": {},
   "outputs": [
    {
     "name": "stdout",
     "output_type": "stream",
     "text": [
      "equivalent\n"
     ]
    }
   ],
   "source": [
    "total = 5\n",
    "if ( (not total <= 2) == (total > 2) ):\n",
    "    print('equivalent')\n",
    "else:\n",
    "    print('not equivalent')"
   ]
  },
  {
   "cell_type": "markdown",
   "id": "9a488f75",
   "metadata": {},
   "source": [
    "**2) Réponse : (count <= 40)** "
   ]
  },
  {
   "cell_type": "code",
   "execution_count": 55,
   "id": "f671fd60",
   "metadata": {},
   "outputs": [
    {
     "name": "stdout",
     "output_type": "stream",
     "text": [
      "equivalent\n"
     ]
    }
   ],
   "source": [
    "count = 50\n",
    "if((not count > 40) == (count <= 40)):\n",
    "    print('equivalent')\n",
    "else:\n",
    "    print('not equivalent')"
   ]
  },
  {
   "cell_type": "markdown",
   "id": "261d4c4b",
   "metadata": {},
   "source": [
    "**3) Réponse : (value <= 20 or total === 100)** "
   ]
  },
  {
   "cell_type": "code",
   "execution_count": 61,
   "id": "6f487c45",
   "metadata": {},
   "outputs": [
    {
     "name": "stdout",
     "output_type": "stream",
     "text": [
      "True\n"
     ]
    }
   ],
   "source": [
    "value=10\n",
    "print( (not(value > 20 and total != 100)) == (value <= 20 or total == 100) )"
   ]
  },
  {
   "cell_type": "markdown",
   "id": "62015db2",
   "metadata": {},
   "source": [
    "**4) Réponse : (angle <= 180 or width != 5)** "
   ]
  },
  {
   "cell_type": "code",
   "execution_count": 63,
   "id": "29262a20",
   "metadata": {},
   "outputs": [
    {
     "name": "stdout",
     "output_type": "stream",
     "text": [
      "True\n"
     ]
    }
   ],
   "source": [
    "angle=60\n",
    "width=5\n",
    "print( not (angle > 180 and width == 5) == (angle <= 180 or width != 5) )"
   ]
  },
  {
   "cell_type": "markdown",
   "id": "0df1b9c6",
   "metadata": {},
   "source": [
    "**5) Réponse : (count != 5 or (value != 10) and count <= 50)** "
   ]
  },
  {
   "cell_type": "code",
   "execution_count": 64,
   "id": "c2f8ac0d",
   "metadata": {},
   "outputs": [
    {
     "name": "stdout",
     "output_type": "stream",
     "text": [
      "True\n"
     ]
    }
   ],
   "source": [
    "print((not (count == 5 and not (value != 10) or count > 50)) == (count != 5 or (value != 10) and count <= 50))"
   ]
  },
  {
   "cell_type": "markdown",
   "id": "df75adc1",
   "metadata": {},
   "source": [
    "**6) Réponse : (value <= 200 and value >= 0 or total == 0)** "
   ]
  },
  {
   "cell_type": "code",
   "execution_count": 65,
   "id": "9f464108",
   "metadata": {},
   "outputs": [
    {
     "name": "stdout",
     "output_type": "stream",
     "text": [
      "True\n"
     ]
    }
   ],
   "source": [
    "print((not (value > 200 or value < 0 and not total == 0)) == (value <= 200 and value >= 0 or total == 0))"
   ]
  },
  {
   "cell_type": "markdown",
   "id": "1b88d7f6",
   "metadata": {},
   "source": [
    "# Exercice4"
   ]
  },
  {
   "cell_type": "code",
   "execution_count": 70,
   "id": "a5cb92d9",
   "metadata": {},
   "outputs": [
    {
     "name": "stdout",
     "output_type": "stream",
     "text": [
      "Enter the value in kilometers:10\n",
      "The entered value in Miles: 6.21371\n"
     ]
    }
   ],
   "source": [
    "def kilos_to_miles(x):\n",
    "    return x*0.621371\n",
    "distance = int(input('Enter the value in kilometers:'))\n",
    "print('The entered value in Miles:', kilos_to_miles(distance) )\n"
   ]
  },
  {
   "cell_type": "markdown",
   "id": "edf048c0",
   "metadata": {},
   "source": [
    "# Exercice5"
   ]
  },
  {
   "cell_type": "code",
   "execution_count": 71,
   "id": "9b46fbd4",
   "metadata": {},
   "outputs": [
    {
     "name": "stdout",
     "output_type": "stream",
     "text": [
      "Enter 1st number:10\n",
      "Enter 2nd number:15\n",
      "Enter 3rd number:8\n",
      "The smallest number among 10, 15 and 8 is:8\n"
     ]
    }
   ],
   "source": [
    "var1= int(input('Enter 1st number:'))\n",
    "var2= int(input('Enter 2nd number:'))\n",
    "var3= int(input('Enter 3rd number:'))\n",
    "print('The smallest number among {}, {} and {} is:{}' .format(var1,var2,var3,min(var1,var2,var3)))"
   ]
  },
  {
   "cell_type": "markdown",
   "id": "b969f425",
   "metadata": {},
   "source": [
    "# Exercice6"
   ]
  },
  {
   "cell_type": "code",
   "execution_count": 74,
   "id": "ef5e4230",
   "metadata": {},
   "outputs": [
    {
     "name": "stdout",
     "output_type": "stream",
     "text": [
      "Enter a Number:4\n",
      "Factorial of  4 : 24\n"
     ]
    }
   ],
   "source": [
    "def fact(n):\n",
    "    if n==0:\n",
    "        return 1\n",
    "    else:\n",
    "        return n*fact(n-1)\n",
    "nb=int(input('Enter a Number:'))\n",
    "print('Factorial of ',nb, ':', fact(nb))"
   ]
  },
  {
   "cell_type": "markdown",
   "id": "21814a7a",
   "metadata": {},
   "source": [
    "# Exercice7"
   ]
  },
  {
   "cell_type": "code",
   "execution_count": 98,
   "id": "f5a75a11",
   "metadata": {},
   "outputs": [
    {
     "name": "stdout",
     "output_type": "stream",
     "text": [
      "Entrer le premier nombre:2\n",
      "Entrer l'opérateur:*\n",
      "Entrer le deuxième nombre:5\n",
      "Le résultat de la multiplication est : 10\n"
     ]
    }
   ],
   "source": [
    "nb1=int(input('Entrer le premier nombre:'))\n",
    "op=input('Entrer l\\'opérateur:')\n",
    "nb2=int(input('Entrer le deuxième nombre:'))\n",
    "match op:\n",
    "    case '+':\n",
    "        print('Le résultat de l\\'addition est :', nb1+nb2)\n",
    "    case '-':\n",
    "        print('Le résultat de la soustraction est :', nb1-nb2)\n",
    "    case '*':\n",
    "        print('Le résultat de la multiplication est :', nb1*nb2)\n",
    "    case '/':\n",
    "        print('Le résultat de la division est :', nb1/nb2)\n",
    "    case '%':\n",
    "        print('Le résultat du modulo est :', nb1%nb2)\n",
    "    case '**':\n",
    "        print('Le résultat de la puissance est :', nb1**nb2)\n",
    "    case _:\n",
    "        print('L\\'opérateur n\\'est pas reconnu.')"
   ]
  },
  {
   "cell_type": "markdown",
   "id": "1a8b10e3",
   "metadata": {},
   "source": [
    "# Exercice8"
   ]
  },
  {
   "cell_type": "code",
   "execution_count": 97,
   "id": "6d3d390e",
   "metadata": {},
   "outputs": [
    {
     "name": "stdout",
     "output_type": "stream",
     "text": [
      "Enter a number: 3\n",
      "3 is a prime number\n",
      "Enter q to exit: \n",
      "Enter a number: 5\n",
      "5 is a prime number\n",
      "Enter q to exit: \n",
      "Enter a number: 7\n",
      "7 is a prime number\n",
      "Enter q to exit: \n",
      "Enter a number: 9\n",
      "9 is not a prime number\n",
      "Enter q to exit: \n",
      "Enter a number: 11\n",
      "11 is a prime number\n",
      "Enter q to exit: \n",
      "Enter a number: 2\n",
      "2 is not a prime number\n",
      "Enter q to exit: \n",
      "Enter a number: 4\n",
      "4 is not a prime number\n",
      "Enter q to exit: \n",
      "Enter a number: 6\n",
      "6 is not a prime number\n",
      "Enter q to exit: \n",
      "Enter a number: 13\n",
      "13 is a prime number\n",
      "Enter q to exit: q\n"
     ]
    }
   ],
   "source": [
    "def prime(x):\n",
    "    # un nombre premier est strictement supérieur à 1\n",
    "    if not x > 1:\n",
    "        return False\n",
    "    #un nombre premier n'est forcément pas paire\n",
    "    if x%2==0:\n",
    "        return False\n",
    "    for i in range(3, x, 2):\n",
    "        if (x % i) == 0:\n",
    "            return False\n",
    "    return True\n",
    "  \n",
    "while True:\n",
    "    num = int(input(\"Enter a number: \"))\n",
    "    if prime(num):\n",
    "        print(num, \"is a prime number\")\n",
    "    else:\n",
    "        print(num, \"is not a prime number\")\n",
    "    q = input(\"Enter q to exit: \")\n",
    "    if q==\"q\":\n",
    "        break"
   ]
  },
  {
   "cell_type": "markdown",
   "id": "2bbfb312",
   "metadata": {},
   "source": [
    "# Exercice9"
   ]
  },
  {
   "cell_type": "code",
   "execution_count": 91,
   "id": "b9f7d71d",
   "metadata": {},
   "outputs": [
    {
     "name": "stdout",
     "output_type": "stream",
     "text": [
      "Enter the number:5\n",
      "Multiplication Table of  5\n",
      "5 X 1 = 5\n",
      "5 X 2 = 10\n",
      "5 X 3 = 15\n",
      "5 X 4 = 20\n",
      "5 X 5 = 25\n",
      "5 X 6 = 30\n",
      "5 X 7 = 35\n",
      "5 X 8 = 40\n",
      "5 X 9 = 45\n",
      "5 X 10 = 50\n"
     ]
    }
   ],
   "source": [
    "nb=int(input('Enter the number:'))\n",
    "while (nb<1) or (nb>9):\n",
    "    nb=int(input('Enter the number:'))\n",
    "print('Multiplication Table of ', nb)\n",
    "for i in range(1,11):\n",
    "    print(nb, 'X', i, '=', nb*i)"
   ]
  },
  {
   "cell_type": "markdown",
   "id": "0187ecc5",
   "metadata": {},
   "source": [
    "# Exercice10"
   ]
  },
  {
   "cell_type": "code",
   "execution_count": 90,
   "id": "ddb5ed5d",
   "metadata": {},
   "outputs": [
    {
     "name": "stdout",
     "output_type": "stream",
     "text": [
      "The total sum: 204  and the last number is  8\n"
     ]
    }
   ],
   "source": [
    "def sumSquares(seuil):\n",
    "    sum=0\n",
    "    i=0\n",
    "    while sum <= seuil:\n",
    "        i+=1\n",
    "        sum += i**2\n",
    "    return (sum,i)\n",
    "(sum,i)= sumSquares(200)\n",
    "print('The total sum:', sum, ' and the last number is ',i)"
   ]
  }
 ],
 "metadata": {
  "kernelspec": {
   "display_name": "Python 3 (ipykernel)",
   "language": "python",
   "name": "python3"
  },
  "language_info": {
   "codemirror_mode": {
    "name": "ipython",
    "version": 3
   },
   "file_extension": ".py",
   "mimetype": "text/x-python",
   "name": "python",
   "nbconvert_exporter": "python",
   "pygments_lexer": "ipython3",
   "version": "3.10.7"
  }
 },
 "nbformat": 4,
 "nbformat_minor": 5
}
